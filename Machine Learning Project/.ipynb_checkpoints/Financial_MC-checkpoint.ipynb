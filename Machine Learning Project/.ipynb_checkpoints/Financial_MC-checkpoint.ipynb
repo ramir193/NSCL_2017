{
 "cells": [
  {
   "cell_type": "code",
   "execution_count": 1,
   "metadata": {
    "collapsed": true
   },
   "outputs": [],
   "source": [
    "%matplotlib inline\n",
    "import random as r\n",
    "import numpy as np\n",
    "import matplotlib.pyplot as plt\n",
    "import matplotlib.mlab as mlab\n",
    "import scipy"
   ]
  },
  {
   "cell_type": "code",
   "execution_count": 6,
   "metadata": {
    "collapsed": true
   },
   "outputs": [],
   "source": [
    "### The base functions ###\n",
    "def trade(m_i,m_j):\n",
    "    '''\n",
    "    epsilon is a percentage of change, [0,1] occurring between each trade.\n",
    "    m_i and m_j are participating agents stored as a float representing their wealth.\n",
    "    returns m_i_prime and m_j_prime, the wealth of each agent post-transaction\n",
    "    '''\n",
    "    epsilon = r.uniform(0,1)\n",
    "    m_i_prime = epsilon*(m_i+m_j)\n",
    "    m_j_prime = (1-epsilon)*(m_i+m_j)\n",
    "\n",
    "    #ensure that nobody has negative wealth value post-transaction\n",
    "    while m_i_prime < 0 or m_j_prime < 0:\n",
    "        epsilon = r.uniform(0,1)\n",
    "        m_i_prime = epsilon*(m_i+m_j)\n",
    "        m_j_prime = (1-epsilon)*(m_i+m_j)\n",
    "        \n",
    "    delta_m = epsilon*m_j\n",
    "\n",
    "    return m_i_prime, m_j_prime\n",
    "\n",
    "def iterate(n_transactions, agent_list, savings = 0.0, nearest_prob = 1.0):\n",
    "    '''\n",
    "    n_transactions = number of transactions for each cycle\n",
    "    agent_list = initial 'pool' of agents, each with a specified starting wealth\n",
    "    n_agents = number of agents in each list\n",
    "    function sequence: \n",
    "    choose 2 agents with nonzero wealth to trade -> \n",
    "    transfer wealth -> \n",
    "    update wealth -> \n",
    "    repeat for n_transactions\n",
    "    '''\n",
    "    n_agents = len(agent_list)\n",
    "    agent_set = set(np.arange(0,n_agents))\n",
    "    for t in range(n_transactions):\n",
    "        i1, i2 = r.sample(agent_set,2)\n",
    "        agent1, agent2 = agent_list[i1], agent_list[i2]\n",
    "        #ensure transactions between nonzero wealth\n",
    "        while agent1 < 0 or agent2 < 0:\n",
    "            i1, i2 = r.sample(agent_set,2)\n",
    "            agent1, agent2 = agent_list[i1], agent_list[i2]\n",
    "        agent1_prime, agent2_prime = trade(agent1, agent2)\n",
    "        \n",
    "        #savings parameter\n",
    "        agent1_prime += savings*agent1 + (1-savings)*agent1\n",
    "        agent2_prime += savings*agent2 + (1-savings)*agent2\n",
    "        #update agent wealth value\n",
    "        agent_list[i1], agent_list[i2] = agent1_prime, agent2_prime\n",
    "        \n",
    "    return agent_list\n",
    "\n",
    "def plot_fit(x,fit):\n",
    "    plt.plot(x,fit)\n",
    "    plt.xlabel(\"Range of wealth\")\n",
    "    plt.ylabel(\"1/wealth, W_n\")\n",
    "    plt.title(\"Gibbs Distribution\")\n",
    "\n",
    "def gaussian_fit(distribution,bins):\n",
    "    mu, sigma = scipy.mean(distribution), scipy.std(distribution)\n",
    "    y = mlab.normpdf(bins,mu,sigma)\n",
    "    #bars, bins, patches = plt.hist(distribution, 50,normed=True)\n",
    "    return y\n",
    "\n",
    "def power_fit(distribution, beta):\n",
    "    w_arr = []\n",
    "    x = np.linspace(0,max(distribution))\n",
    "    for m in x:\n",
    "        wn = beta*np.exp(-m*beta)\n",
    "        w_arr.append(wn)\n",
    "    return x, w_arr"
   ]
  },
  {
   "cell_type": "code",
   "execution_count": 7,
   "metadata": {
    "collapsed": false
   },
   "outputs": [],
   "source": [
    "'''Initialize'''\n",
    "alpha = 1\n",
    "n_agents = 500\n",
    "transactions = 10**5\n",
    "money = 1.0\n",
    "beta = 1/money\n",
    "m_0 = money*n_agents\n",
    "initial_agent_list = np.full(n_agents,money)\n",
    "'''Iterate'''\n",
    "new_agent_list = iterate(transactions, initial_agent_list)\n",
    "'''See fit'''\n",
    "distribution = new_agent_list\n",
    "x, fit = power_fit(distribution, beta)\n"
   ]
  },
  {
   "cell_type": "code",
   "execution_count": 10,
   "metadata": {
    "collapsed": false
   },
   "outputs": [
    {
     "data": {
      "text/plain": [
       "<matplotlib.text.Text at 0x24c7e0dec50>"
      ]
     },
     "execution_count": 10,
     "metadata": {},
     "output_type": "execute_result"
    },
    {
     "data": {
      "image/png": "[encoded data removed]",
      "text/plain": [
       "<matplotlib.figure.Figure at 0x24c7e058518>"
      ]
     },
     "metadata": {},
     "output_type": "display_data"
    }
   ],
   "source": [
    "beta = 1/money\n",
    "w_array = beta*np.exp(-beta*distribution)\n",
    "logw_array = np.log(w_array)\n",
    "plt.plot(distribution,logw_array)\n",
    "plt.xlabel(\"M\")\n",
    "plt.ylabel(\"Log(w)\")\n",
    "plt.title(\"Log(w) vs. M, m_0 = 1.0\")    "
   ]
  },
  {
   "cell_type": "code",
   "execution_count": 11,
   "metadata": {
    "collapsed": false
   },
   "outputs": [
    {
     "data": {
      "text/plain": [
       "<matplotlib.text.Text at 0x24c7e1428d0>"
      ]
     },
     "execution_count": 11,
     "metadata": {},
     "output_type": "execute_result"
    },
    {
     "data": {
      "image/png": "[encoded data removed]",
      "text/plain": [
       "<matplotlib.figure.Figure at 0x24c7dfabb00>"
      ]
     },
     "metadata": {},
     "output_type": "display_data"
    }
   ],
   "source": [
    "bars, bins, patches = plt.hist(distribution, 50, normed=True)\n",
    "plot_fit(x,fit)\n",
    "plt.title(\"W vs. m, starting wealth m_0 = {}\".format(money))"
   ]
  },
  {
   "cell_type": "code",
   "execution_count": null,
   "metadata": {
    "collapsed": false
   },
   "outputs": [],
   "source": [
    "mu, sigma = scipy.mean(bins), scipy.std(bins)\n",
    "y = mlab.normpdf(bins,mu,sigma)\n",
    "bars, bins, patches = plt.hist(distribution, 50,normed=True)\n",
    "l = plt.plot(bins, y, 'r--', linewidth=1)\n"
   ]
  },
  {
   "cell_type": "code",
   "execution_count": null,
   "metadata": {
    "collapsed": false
   },
   "outputs": [],
   "source": [
    "'''Trials for varying lambda'''\n",
    "\n",
    "agent_no = 500\n",
    "transactions = 10**5\n",
    "money = 1.0\n",
    "beta = 1/money\n",
    "m_0 = money*agent_no\n",
    "lambda_lst = [0, .05, 0.25, 0.5, 0.9]\n",
    "\n",
    "for l in lambda_lst:\n",
    "    agents = np.full(agent_no,money)\n",
    "    iterate_with_savings(transactions, agents, l)\n",
    "    #distribution = agents\n",
    "    x, p_fit = power_fit(agents, beta)\n",
    "    counts, bins, patches = plt.hist(agents, 50, normed=True)\n",
    "    #x, scaled_fit = overlay_fit(distribution,beta, max(counts))\n",
    "    plt.title(\"Distribution of Wealth with {}% savings (lambda = {})\".format(100*l,l))\n",
    "    plt.xlabel(\"Wealth\")\n",
    "    plt.ylabel(\"Fraction of Distribution\")\n",
    "    g_fit = gaussian_fit(agents,bins)\n",
    "    plt.plot(bins,g_fit, 'r--', linewidth=2)\n",
    "    plt.show()\n",
    "\n",
    "    #plt.plot(scaled_fit,color='red',lw=2)\n",
    "    #plt.show()\n"
   ]
  },
  {
   "cell_type": "code",
   "execution_count": null,
   "metadata": {
    "collapsed": false
   },
   "outputs": [],
   "source": [
    "'''Trials for varying alpha parameter, constant lambda'''\n",
    "\n",
    "agent_no = 1000\n",
    "transactions = 10**6\n",
    "money = 1.0\n",
    "beta = 1/money\n",
    "m_0 = money*agent_no\n",
    "alpha_lst = [0,.5,1.0,1.5,2]\n",
    "for a in alpha_lst:\n",
    "    agents = np.full(agent_no,money)\n",
    "    iterate_nearest_neighbor(transactions, agents, a)\n",
    "    #distribution = agents\n",
    "    x, p_fit = power_fit(agents, beta)\n",
    "    counts, bins, patches = plt.hist(agents, 50, normed=True)\n",
    "    #x, scaled_fit = overlay_fit(distribution,beta, max(counts))\n",
    "    plt.title(\"Distribution of Wealth, a = {}, N = {}\".format(a,agent_no))\n",
    "    plt.xlabel(\"Wealth\")\n",
    "    plt.ylabel(\"Fraction of Distribution\")\n",
    "    x, p_fit = power_fit(agents,beta)\n",
    "    plt.plot(x,p_fit, 'r--', linewidth=2)\n",
    "    plt.show()"
   ]
  },
  {
   "cell_type": "code",
   "execution_count": null,
   "metadata": {
    "collapsed": false
   },
   "outputs": [],
   "source": [
    "'''To do: 4d Extract the tail of\n",
    "the distribution and see if it follows a Pareto distribution\n",
    "wm ∝ m−1−α\n",
    ".\n",
    "'''\n",
    "\n",
    "# wm = []\n",
    "# for agent in agents:\n",
    "#     wm.append(agent**(-1-a))\n",
    "# print(wm)\n",
    "# plt.plot(wm)"
   ]
  },
  {
   "cell_type": "code",
   "execution_count": null,
   "metadata": {
    "collapsed": false
   },
   "outputs": [],
   "source": [
    "'''4e: Factoring In Past Transactions\n",
    "Alpha is from 1.0 to 2.0\n",
    "Gamma is from 0.0 to 4.0'''\n",
    "\n",
    "alpha_lst = [1.0,2.0]\n",
    "gamma_lst = [0.0,1.0,2.0,3.0,4.0]\n",
    "ledger = np.zeros((agent_no,agent_no))\n",
    "\n",
    "agent_no = 1000\n",
    "transactions = 10**6\n",
    "money = 100.0\n",
    "beta = 1/money\n",
    "m_0 = money*agent_no\n",
    "distributions = []\n",
    "for a in alpha_lst:\n",
    "    for g in gamma_lst:\n",
    "        agents = np.full(agent_no,money)\n",
    "        iterate_nearest_neighbor_past_transactions(transactions, agents, a, g, ledger)\n",
    "        #x, p_fit = power_fit(agents, beta)\n",
    "        #counts, bins, patches = plt.hist(agents, 50, normed=True)\n",
    "        #plt.title(\"Distribution of Wealth, a = {}, g = {}\".format(a,g))\n",
    "        #plt.xlabel(\"Wealth\")\n",
    "        #plt.ylabel(\"Fraction of Distribution\")\n",
    "        x, p_fit = power_fit1(agents,beta)\n",
    "        distributions.append(p_fit)\n",
    "        #plt.loglog(x,p_fit, 'r--', linewidth=2)\n",
    "        #plt.show()\n",
    "\n"
   ]
  },
  {
   "cell_type": "code",
   "execution_count": null,
   "metadata": {
    "collapsed": false
   },
   "outputs": [],
   "source": [
    "lines = ['r+','g+','b+','y+','m+','rp','gp','bp','yp','mp']\n",
    "ag = [(1,0), (1,1), (1,2), (1,3), (1,4), (2,0), (2,1), (2,2), (2,3), (2,4)]\n",
    "plt.figure(figsize=(10,10))\n",
    "plt.title(\"Distribution of wealth with varying alpha and gamma\")        \n",
    "for i in range(len(distributions)):\n",
    "    fit = distributions[i]\n",
    "    line = lines[i]\n",
    "    a, g = ag[i][0], ag[i][1]\n",
    "    label = \"a = {}, g = {}\".format(a, g)\n",
    "    plt.loglog(x,fit,line,label=label)\n",
    "\n",
    "plt.xlabel('m')\n",
    "plt.ylabel('P(m)')\n",
    "plt.xlim(2*10**(2),10**4)\n",
    "plt.ylim(10**(-10),10**(-2))\n",
    "plt.legend(loc=0)\n",
    "plt.show()"
   ]
  },
  {
   "cell_type": "code",
   "execution_count": null,
   "metadata": {
    "collapsed": false
   },
   "outputs": [],
   "source": []
  },
  {
   "cell_type": "code",
   "execution_count": null,
   "metadata": {
    "collapsed": false
   },
   "outputs": [],
   "source": []
  },
  {
   "cell_type": "code",
   "execution_count": null,
   "metadata": {
    "collapsed": false
   },
   "outputs": [],
   "source": [
    "#Taxation model\n",
    "\n",
    "'''Trials for varying alpha parameter, constant lambda'''\n",
    "\n",
    "agent_no = 1000\n",
    "transactions = 10**5\n",
    "money = 100.0\n",
    "beta = 1/money\n",
    "m_0 = money*agent_no\n",
    "alpha_lst = [0,.5,1.0,1.5,2]\n",
    "initial_wealth = money*agent_no\n",
    "tax_rate=0.2\n",
    "for a in alpha_lst:\n",
    "    agents = np.full(agent_no,money)\n",
    "    iterate_nearest_neighbor_with_taxation(transactions, agents, a, tax_rate)\n",
    "    #distribution = agents\n",
    "    x, p_fit = power_fit(agents, beta)\n",
    "    counts, bins, patches = plt.hist(agents, 50, normed=True)\n",
    "    #x, scaled_fit = overlay_fit(distribution,beta, max(counts))\n",
    "    plt.title(\"Distribution of Wealth, a = {}, N = {}\".format(a,agent_no))\n",
    "    plt.xlabel(\"Wealth\")\n",
    "    plt.ylabel(\"Fraction of Distribution\")\n",
    "    x, p_fit = power_fit(agents,beta)\n",
    "    plt.plot(x,p_fit, 'r--', linewidth=2)\n",
    "    plt.show()\n",
    "    final_wealth = sum(agents)\n",
    "    print(\"initial: {} final: {}\".format(initial_wealth,final_wealth))"
   ]
  },
  {
   "cell_type": "code",
   "execution_count": null,
   "metadata": {
    "collapsed": true
   },
   "outputs": [],
   "source": [
    "\n",
    "    \n",
    "def trade_with_savings(m_i,m_j,l):\n",
    "    m_i_prime = -1\n",
    "    m_j_prime = -1\n",
    "\n",
    "    while m_i_prime < 0 or m_j_prime < 0:\n",
    "        epsilon = r.uniform(0,1)\n",
    "        m_i_prime = l*m_i + epsilon*(1-l)*(m_i+m_j)\n",
    "        m_j_prime = l*m_j + (1-epsilon)*(1-l)*(m_i+m_j)\n",
    "        \n",
    "\n",
    "    return m_i_prime, m_j_prime\n",
    "\n",
    "def transaction_tax(money_exchanged,agents,tax_rate):\n",
    "    pop = len(agents)\n",
    "    distributed_money = money_exchanged*tax_rate/pop\n",
    "    agents = [agent+distributed_money for agent in agents]\n",
    "    \n",
    "    return agents\n",
    "\n",
    "def trade_with_taxation(m_i,m_j,agents,tax_rate):\n",
    "    m_i_prime = -1\n",
    "    m_j_prime = -1\n",
    "    pop = len(agents)\n",
    "    while m_i_prime < 0 or m_j_prime < 0:\n",
    "        epsilon = r.uniform(0,1)\n",
    "        delta_m = epsilon*m_j - (1-epsilon)*m_i\n",
    "        delta_m, projected_tax = (1-tax_rate)*delta_m, tax_rate*delta_m\n",
    "        m_i_prime = m_i + delta_m\n",
    "        m_j_prime = m_j - delta_m\n",
    "        \n",
    "    distributed_money = projected_tax/pop\n",
    "    agents = [agent+projected_tax for agent in agents]    \n",
    "\n",
    "    return m_i_prime, m_j_prime, agents\n",
    "\n",
    "\n",
    "\n",
    "def consensual_transaction(mi,mj,alpha):\n",
    "    try:\n",
    "        roll = r.uniform(0,1)\n",
    "        p = ((abs(mi-mj))**(-alpha))\n",
    "        if roll <= p:\n",
    "            return True\n",
    "        else:\n",
    "            return False\n",
    "    except ZeroDivisionError:\n",
    "        return False\n",
    "    \n",
    "def consensual_transaction_past_transactions(mi,mj,alpha,c,gamma):\n",
    "    try:\n",
    "        roll = r.uniform(0,1)\n",
    "        p = ((abs(mi-mj))**(-alpha))*(c+1)**(gamma)\n",
    "        if roll <= p:\n",
    "            return True\n",
    "        else:\n",
    "            return False\n",
    "    except ZeroDivisionError:\n",
    "        return False\n",
    "    \n",
    "\n",
    "        \n",
    "def iterate_with_savings(runs, agents, l):\n",
    "    n = len(agents)\n",
    "    for t in range(transactions):\n",
    "        i1, i2 = choose_agents(n)\n",
    "        agent1, agent2 = agents[i1], agents[i2]\n",
    "        while agent1 < 0 or agent2 < 0:\n",
    "            i1, i2 = choose_agents(n)\n",
    "            agent1, agent2 = agents[i1], agents[i2]\n",
    "        agents[i1], agents[i2] = trade_with_savings(agent1,agent2,l)\n",
    "        \n",
    "def iterate_nearest_neighbor(runs, agents, a):\n",
    "    n = len(agents)\n",
    "    for t in range(transactions):\n",
    "        i1, i2 = choose_agents(n)\n",
    "        agent1, agent2 = agents[i1], agents[i2]\n",
    "        while agent1 < 0 or agent2 < 0 or consensual_transaction(agent1,agent2,a) == False:\n",
    "            i1, i2 = choose_agents(n)\n",
    "            agent1, agent2 = agents[i1], agents[i2]\n",
    "        agents[i1], agents[i2] = trade(agent1,agent2)\n",
    "        \n",
    "def flat_income_tax(tax_rate, agents):\n",
    "    bank = 0\n",
    "    for agent in agents:\n",
    "        income_tax = tax_rate*agent\n",
    "        \n",
    "    \n",
    "        \n",
    "        \n",
    "def iterate_nearest_neighbor_with_taxation(runs, agents, a, tax_rate):\n",
    "    n = len(agents)\n",
    "    for t in range(transactions):\n",
    "        i1, i2 = choose_agents(n)\n",
    "        agent1, agent2 = agents[i1], agents[i2]\n",
    "        while agent1 < 0 or agent2 < 0 or consensual_transaction(agent1,agent2,a) == False:\n",
    "            i1, i2 = choose_agents(n)\n",
    "            agent1, agent2 = agents[i1], agents[i2]\n",
    "        agents[i1], agents[i2], agents = trade_with_taxation(agent1,agent2,agents, tax_rate)\n",
    "        \n",
    "def iterate_nearest_neighbor_past_transactions(runs, agents, a, gamma, ledger):\n",
    "    n = len(agents)\n",
    "    for t in range(transactions):\n",
    "        i1, i2 = choose_agents(n)\n",
    "        agent1, agent2 = agents[i1], agents[i2]\n",
    "        c = ledger[i1][i2]\n",
    "        while agent1 < 0 or agent2 < 0 or consensual_transaction_past_transactions(agent1,agent2,a,c,gamma) == False:\n",
    "            i1, i2 = choose_agents(n)\n",
    "            agent1, agent2 = agents[i1], agents[i2]\n",
    "        agents[i1], agents[i2] = trade(agent1,agent2)\n",
    "        ledger[i1][i2] += 1\n",
    "        \n",
    "\n",
    "def power_fit(distribution, beta):\n",
    "    w_arr = []\n",
    "    x = np.linspace(0,max(distribution))\n",
    "    for m in x:\n",
    "        wn = beta*math.exp(-m*beta)\n",
    "        w_arr.append(wn)\n",
    "    return x, w_arr\n",
    "\n",
    "\n"
   ]
  }
 ],
 "metadata": {
  "anaconda-cloud": {},
  "kernelspec": {
   "display_name": "Python [conda root]",
   "language": "python",
   "name": "conda-root-py"
  },
  "language_info": {
   "codemirror_mode": {
    "name": "ipython",
    "version": 3
   },
   "file_extension": ".py",
   "mimetype": "text/x-python",
   "name": "python",
   "nbconvert_exporter": "python",
   "pygments_lexer": "ipython3",
   "version": "3.5.2"
  }
 },
 "nbformat": 4,
 "nbformat_minor": 1
}
