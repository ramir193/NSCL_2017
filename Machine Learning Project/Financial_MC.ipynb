{
 "cells": [
  {
   "cell_type": "code",
   "execution_count": 1,
   "metadata": {
    "collapsed": true
   },
   "outputs": [],
   "source": [
    "%matplotlib inline\n",
    "import random as r\n",
    "import numpy as np\n",
    "import matplotlib.pyplot as plt\n",
    "import matplotlib.mlab as mlab\n",
    "import scipy\n",
    "import scipy.stats as st\n"
   ]
  },
  {
   "cell_type": "code",
   "execution_count": 2,
   "metadata": {
    "collapsed": true
   },
   "outputs": [],
   "source": [
    "### The base functions ###\n",
    "def trade(m_i,m_j):\n",
    "    '''\n",
    "    epsilon is a percentage of change, [0,1] occurring between each trade.\n",
    "    m_i and m_j are participating agents stored as a float representing their wealth.\n",
    "    returns m_i_prime and m_j_prime, the wealth of each agent post-transaction\n",
    "    '''\n",
    "    epsilon = r.uniform(0,1)\n",
    "    m_i_prime = epsilon*(m_i+m_j)\n",
    "    m_j_prime = (1-epsilon)*(m_i+m_j)\n",
    "\n",
    "    #ensure that nobody has negative wealth value post-transaction\n",
    "    while m_i_prime < 0 or m_j_prime < 0:\n",
    "        epsilon = r.uniform(0,1)\n",
    "        m_i_prime = epsilon*(m_i+m_j)\n",
    "        m_j_prime = (1-epsilon)*(m_i+m_j)\n",
    "        \n",
    "    delta_m = epsilon*m_j\n",
    "\n",
    "    return m_i_prime, m_j_prime\n",
    "\n",
    "def trade_with_savings(m_i,m_j,l):\n",
    "    m_i_prime = -1\n",
    "    m_j_prime = -1\n",
    "\n",
    "    while m_i_prime < 0 or m_j_prime < 0:\n",
    "        epsilon = r.uniform(0,1)\n",
    "        m_i_prime = l*m_i + epsilon*(1-l)*(m_i+m_j)\n",
    "        m_j_prime = l*m_j + (1-epsilon)*(1-l)*(m_i+m_j)\n",
    "        \n",
    "\n",
    "    return m_i_prime, m_j_prime\n",
    "\n",
    "def iterate(n_transactions, agent_list, savings = 0.0, nearest_prob = 1.0, trade=trade):\n",
    "    '''\n",
    "    n_transactions = number of transactions for each cycle\n",
    "    agent_list = initial 'pool' of agents, each with a specified starting wealth\n",
    "    n_agents = number of agents in each list\n",
    "    function sequence: \n",
    "    choose 2 agents with nonzero wealth to trade -> \n",
    "    transfer wealth -> \n",
    "    update wealth -> \n",
    "    repeat for n_transactions\n",
    "    '''\n",
    "    if savings != 0.0:\n",
    "        trade = trade_with_savings\n",
    "        \n",
    "        \n",
    "    n_agents = len(agent_list)\n",
    "    agent_set = set(np.arange(0,n_agents))\n",
    "    for t in range(n_transactions):\n",
    "        i1, i2 = r.sample(agent_set,2)\n",
    "        agent1, agent2 = agent_list[i1], agent_list[i2]\n",
    "        #ensure transactions between nonzero wealth\n",
    "        while agent1 < 0 or agent2 < 0:\n",
    "            i1, i2 = r.sample(agent_set,2)\n",
    "            agent1, agent2 = agent_list[i1], agent_list[i2]\n",
    "        agent1_prime, agent2_prime = trade(agent1, agent2)\n",
    "        \n",
    "        #savings parameter\n",
    "        #agent1_prime += savings*agent1 + (1-savings)*agent1\n",
    "        #agent2_prime += savings*agent2 + (1-savings)*agent2\n",
    "        #update agent wealth value\n",
    "        agent_list[i1], agent_list[i2] = agent1_prime, agent2_prime\n",
    "        \n",
    "    return agent_list\n",
    "\n",
    "def plot_fit(x,fit):\n",
    "    plt.plot(x,fit)\n",
    "    plt.xlabel(\"Range of wealth\")\n",
    "    plt.ylabel(\"1/wealth, W_n\")\n",
    "    plt.title(\"Gibbs Distribution\")\n",
    "\n",
    "def gaussian_fit(distribution,bins):\n",
    "    mu, sigma = scipy.mean(distribution), scipy.std(distribution)\n",
    "    y = mlab.normpdf(bins,mu,sigma)\n",
    "    #bars, bins, patches = plt.hist(distribution, 50,normed=True)\n",
    "    return y\n",
    "\n",
    "def power_fit(distribution, beta):\n",
    "#     w_arr = []\n",
    "#     x = np.linspace(0,max(distribution))\n",
    "#     for m in x:\n",
    "#         wn = beta*np.exp(-m*beta)\n",
    "#         w_arr.append(wn)\n",
    "\n",
    "    w_arr = []\n",
    "    x = np.linspace(0,max(distribution))\n",
    "    for m in x:\n",
    "        wn = beta*np.exp(-m*beta)\n",
    "        w_arr.append(wn)\n",
    "    return x, w_arr"
   ]
  },
  {
   "cell_type": "code",
   "execution_count": 3,
   "metadata": {
    "collapsed": false
   },
   "outputs": [
    {
     "data": {
      "text/plain": [
       "'See fit'"
      ]
     },
     "execution_count": 3,
     "metadata": {},
     "output_type": "execute_result"
    }
   ],
   "source": [
    "'''Initialize'''\n",
    "alpha = 1\n",
    "n_agents = 500\n",
    "transactions = 10**5\n",
    "money = 1.0\n",
    "beta = 1/money\n",
    "m_0 = money*n_agents\n",
    "initial_agent_list = np.full(n_agents,money)\n",
    "\n",
    "'''Iterate'''\n",
    "wealth_distribution = iterate(transactions, initial_agent_list)\n"
   ]
  },
  {
   "cell_type": "code",
   "execution_count": 4,
   "metadata": {
    "collapsed": false
   },
   "outputs": [
    {
     "data": {
      "text/plain": [
       "<matplotlib.text.Text at 0x1762c5abc50>"
      ]
     },
     "execution_count": 4,
     "metadata": {},
     "output_type": "execute_result"
    },
    {
     "data": {
      "image/png": "[encoded data removed]",
      "text/plain": [
       "<matplotlib.figure.Figure at 0x1762c58f390>"
      ]
     },
     "metadata": {},
     "output_type": "display_data"
    }
   ],
   "source": [
    "'''Log(w) as a function of wealth'''\n",
    "w_array = beta*np.exp(-beta*wealth_distribution)\n",
    "logw_array = np.log(w_array)\n",
    "plt.plot(wealth_distribution,logw_array)\n",
    "plt.xlabel(\"M\")\n",
    "plt.ylabel(\"Log(w)\")\n",
    "plt.title(\"Log(w) vs. M, m_0 = 1.0\")    "
   ]
  },
  {
   "cell_type": "code",
   "execution_count": 105,
   "metadata": {
    "collapsed": false
   },
   "outputs": [
    {
     "name": "stdout",
     "output_type": "stream",
     "text": [
      "(1.4913421022139239, -0.89283532632722129, 0.89438475525223471)\n"
     ]
    },
    {
     "name": "stderr",
     "output_type": "stream",
     "text": [
      "C:\\Anaconda3\\lib\\site-packages\\scipy\\stats\\_distn_infrastructure.py:2225: RuntimeWarning: invalid value encountered in double_scalars\n",
      "  Lhat = muhat - Shat*mu\n"
     ]
    },
    {
     "data": {
      "image/png": "[encoded data removed]",
      "text/plain": [
       "<matplotlib.figure.Figure at 0x1762db601d0>"
      ]
     },
     "metadata": {},
     "output_type": "display_data"
    }
   ],
   "source": [
    "# attempt 2 from https://stackoverflow.com/questions/6620471/fitting-empirical-distribution-to-theoretical-ones-with-scipy-python\n",
    "\n",
    "#y = scipy.int_(scipy.round_(scipy.stats.vonmises.rvs(5,size=size)*47))\n",
    "y = wealth_distribution\n",
    "#y = [float(i)/max(wealth_distribution) for i in wealth_distribution]\n",
    "\n",
    "h = plt.hist(y, bins = n_agents // 10, color='g')\n",
    "#print(h[1])\n",
    "#x = np.arange(0,max(h[1]))\n",
    "x = h[1]\n",
    "x = scipy.arange(n_agents)\n",
    "#print(x,y)\n",
    "#print(h)\n",
    "dist = st.pareto\n",
    "param = dist.fit(y)\n",
    "print(param)\n",
    "loc = param[-2]\n",
    "scale = param[-1]\n",
    "pdf_fitted = dist.pdf(x, *param[:-2], loc=loc-1, scale=scale) * n_agents\n",
    "plt.plot(pdf_fitted, label=dist_name)\n",
    "plt.xlim(0,max(wealth_distribution))\n",
    "plt.legend(loc='upper right')\n",
    "plt.show()"
   ]
  },
  {
   "cell_type": "code",
   "execution_count": null,
   "metadata": {
    "collapsed": false
   },
   "outputs": [],
   "source": [
    "from scipy.stats import pareto\n",
    "\n",
    "bars, bins, patches = plt.hist(wealth_distribution, 50, normed=True)\n",
    "x = np.linspace(0, max(wealth_distribution),n_agents)\n",
    "#b, loc, scale = 1, 1, 1\n",
    "#loc = mean, scale = stdev\n",
    "#fit_scipy = scipy.stats.pareto.fit(distribution,beta,loc=money)\n",
    "#print(fit_scipy)\n",
    "fit = beta*np.exp(-x*beta)\n",
    "#print(len(fit),len(x))\n",
    "#x, fit = power_fit(distribution, beta)\n",
    "plt.plot(x,fit)\n",
    "plt.xlabel(\"Range of wealth\")\n",
    "plt.ylabel(\"1/wealth, W_n\")\n",
    "plt.title(\"W vs. m, starting wealth m_0 = {}\".format(money))\n",
    "#plt.plot(x, pareto.pdf(x, beta),'r-', lw=5, alpha=.6, label='pareto pdf')"
   ]
  },
  {
   "cell_type": "code",
   "execution_count": 9,
   "metadata": {
    "collapsed": false
   },
   "outputs": [
    {
     "data": {
      "image/png": "[encoded data removed]",
      "text/plain": [
       "<matplotlib.figure.Figure at 0x1ae9b7298d0>"
      ]
     },
     "metadata": {},
     "output_type": "display_data"
    }
   ],
   "source": [
    "mu, sigma = scipy.mean(bins), scipy.std(bins)\n",
    "y = mlab.normpdf(bins,mu,sigma)\n",
    "bars, bins, patches = plt.hist(distribution, 50,normed=True)\n",
    "#l = plt.plot(bins, y, 'r--', linewidth=1)\n"
   ]
  },
  {
   "cell_type": "code",
   "execution_count": null,
   "metadata": {
    "collapsed": false
   },
   "outputs": [],
   "source": [
    "'''Trials for varying lambda'''\n",
    "\n",
    "agent_no = 500\n",
    "transactions = 10**5\n",
    "money = 1.0\n",
    "beta = 1/money\n",
    "m_0 = money*agent_no\n",
    "lambda_lst = [0, .05, 0.25, 0.5, 0.9]\n",
    "\n",
    "for l in lambda_lst:\n",
    "    agents = np.full(agent_no,money)\n",
    "    iterate_with_savings(transactions, agents, l)\n",
    "    #distribution = agents\n",
    "    x, p_fit = power_fit(agents, beta)\n",
    "    counts, bins, patches = plt.hist(agents, 50, normed=True)\n",
    "    #x, scaled_fit = overlay_fit(distribution,beta, max(counts))\n",
    "    plt.title(\"Distribution of Wealth with {}% savings (lambda = {})\".format(100*l,l))\n",
    "    plt.xlabel(\"Wealth\")\n",
    "    plt.ylabel(\"Fraction of Distribution\")\n",
    "    g_fit = gaussian_fit(agents,bins)\n",
    "    plt.plot(bins,g_fit, 'r--', linewidth=2)\n",
    "    plt.show()\n",
    "\n",
    "    #plt.plot(scaled_fit,color='red',lw=2)\n",
    "    #plt.show()\n"
   ]
  },
  {
   "cell_type": "code",
   "execution_count": null,
   "metadata": {
    "collapsed": false
   },
   "outputs": [],
   "source": [
    "'''Trials for varying alpha parameter, constant lambda'''\n",
    "\n",
    "agent_no = 1000\n",
    "transactions = 10**6\n",
    "money = 1.0\n",
    "beta = 1/money\n",
    "m_0 = money*agent_no\n",
    "alpha_lst = [0,.5,1.0,1.5,2]\n",
    "for a in alpha_lst:\n",
    "    agents = np.full(agent_no,money)\n",
    "    iterate_nearest_neighbor(transactions, agents, a)\n",
    "    #distribution = agents\n",
    "    x, p_fit = power_fit(agents, beta)\n",
    "    counts, bins, patches = plt.hist(agents, 50, normed=True)\n",
    "    #x, scaled_fit = overlay_fit(distribution,beta, max(counts))\n",
    "    plt.title(\"Distribution of Wealth, a = {}, N = {}\".format(a,agent_no))\n",
    "    plt.xlabel(\"Wealth\")\n",
    "    plt.ylabel(\"Fraction of Distribution\")\n",
    "    x, p_fit = power_fit(agents,beta)\n",
    "    plt.plot(x,p_fit, 'r--', linewidth=2)\n",
    "    plt.show()"
   ]
  },
  {
   "cell_type": "code",
   "execution_count": null,
   "metadata": {
    "collapsed": false
   },
   "outputs": [],
   "source": [
    "'''To do: 4d Extract the tail of\n",
    "the distribution and see if it follows a Pareto distribution\n",
    "wm ∝ m−1−α\n",
    ".\n",
    "'''\n",
    "\n",
    "# wm = []\n",
    "# for agent in agents:\n",
    "#     wm.append(agent**(-1-a))\n",
    "# print(wm)\n",
    "# plt.plot(wm)"
   ]
  },
  {
   "cell_type": "code",
   "execution_count": null,
   "metadata": {
    "collapsed": false
   },
   "outputs": [],
   "source": [
    "'''4e: Factoring In Past Transactions\n",
    "Alpha is from 1.0 to 2.0\n",
    "Gamma is from 0.0 to 4.0'''\n",
    "\n",
    "alpha_lst = [1.0,2.0]\n",
    "gamma_lst = [0.0,1.0,2.0,3.0,4.0]\n",
    "ledger = np.zeros((agent_no,agent_no))\n",
    "\n",
    "agent_no = 1000\n",
    "transactions = 10**6\n",
    "money = 100.0\n",
    "beta = 1/money\n",
    "m_0 = money*agent_no\n",
    "distributions = []\n",
    "for a in alpha_lst:\n",
    "    for g in gamma_lst:\n",
    "        agents = np.full(agent_no,money)\n",
    "        iterate_nearest_neighbor_past_transactions(transactions, agents, a, g, ledger)\n",
    "        #x, p_fit = power_fit(agents, beta)\n",
    "        #counts, bins, patches = plt.hist(agents, 50, normed=True)\n",
    "        #plt.title(\"Distribution of Wealth, a = {}, g = {}\".format(a,g))\n",
    "        #plt.xlabel(\"Wealth\")\n",
    "        #plt.ylabel(\"Fraction of Distribution\")\n",
    "        x, p_fit = power_fit1(agents,beta)\n",
    "        distributions.append(p_fit)\n",
    "        #plt.loglog(x,p_fit, 'r--', linewidth=2)\n",
    "        #plt.show()\n",
    "\n"
   ]
  },
  {
   "cell_type": "code",
   "execution_count": null,
   "metadata": {
    "collapsed": false
   },
   "outputs": [],
   "source": [
    "lines = ['r+','g+','b+','y+','m+','rp','gp','bp','yp','mp']\n",
    "ag = [(1,0), (1,1), (1,2), (1,3), (1,4), (2,0), (2,1), (2,2), (2,3), (2,4)]\n",
    "plt.figure(figsize=(10,10))\n",
    "plt.title(\"Distribution of wealth with varying alpha and gamma\")        \n",
    "for i in range(len(distributions)):\n",
    "    fit = distributions[i]\n",
    "    line = lines[i]\n",
    "    a, g = ag[i][0], ag[i][1]\n",
    "    label = \"a = {}, g = {}\".format(a, g)\n",
    "    plt.loglog(x,fit,line,label=label)\n",
    "\n",
    "plt.xlabel('m')\n",
    "plt.ylabel('P(m)')\n",
    "plt.xlim(2*10**(2),10**4)\n",
    "plt.ylim(10**(-10),10**(-2))\n",
    "plt.legend(loc=0)\n",
    "plt.show()"
   ]
  },
  {
   "cell_type": "code",
   "execution_count": null,
   "metadata": {
    "collapsed": false
   },
   "outputs": [],
   "source": []
  },
  {
   "cell_type": "code",
   "execution_count": null,
   "metadata": {
    "collapsed": false
   },
   "outputs": [],
   "source": []
  },
  {
   "cell_type": "code",
   "execution_count": null,
   "metadata": {
    "collapsed": false
   },
   "outputs": [],
   "source": [
    "#Taxation model\n",
    "\n",
    "'''Trials for varying alpha parameter, constant lambda'''\n",
    "\n",
    "agent_no = 1000\n",
    "transactions = 10**5\n",
    "money = 100.0\n",
    "beta = 1/money\n",
    "m_0 = money*agent_no\n",
    "alpha_lst = [0,.5,1.0,1.5,2]\n",
    "initial_wealth = money*agent_no\n",
    "tax_rate=0.2\n",
    "for a in alpha_lst:\n",
    "    agents = np.full(agent_no,money)\n",
    "    iterate_nearest_neighbor_with_taxation(transactions, agents, a, tax_rate)\n",
    "    #distribution = agents\n",
    "    x, p_fit = power_fit(agents, beta)\n",
    "    counts, bins, patches = plt.hist(agents, 50, normed=True)\n",
    "    #x, scaled_fit = overlay_fit(distribution,beta, max(counts))\n",
    "    plt.title(\"Distribution of Wealth, a = {}, N = {}\".format(a,agent_no))\n",
    "    plt.xlabel(\"Wealth\")\n",
    "    plt.ylabel(\"Fraction of Distribution\")\n",
    "    x, p_fit = power_fit(agents,beta)\n",
    "    plt.plot(x,p_fit, 'r--', linewidth=2)\n",
    "    plt.show()\n",
    "    final_wealth = sum(agents)\n",
    "    print(\"initial: {} final: {}\".format(initial_wealth,final_wealth))"
   ]
  },
  {
   "cell_type": "code",
   "execution_count": null,
   "metadata": {
    "collapsed": true
   },
   "outputs": [],
   "source": [
    "\n",
    "    \n",
    "def trade_with_savings(m_i,m_j,l):\n",
    "    m_i_prime = -1\n",
    "    m_j_prime = -1\n",
    "\n",
    "    while m_i_prime < 0 or m_j_prime < 0:\n",
    "        epsilon = r.uniform(0,1)\n",
    "        m_i_prime = l*m_i + epsilon*(1-l)*(m_i+m_j)\n",
    "        m_j_prime = l*m_j + (1-epsilon)*(1-l)*(m_i+m_j)\n",
    "        \n",
    "\n",
    "    return m_i_prime, m_j_prime\n",
    "\n",
    "def transaction_tax(money_exchanged,agents,tax_rate):\n",
    "    pop = len(agents)\n",
    "    distributed_money = money_exchanged*tax_rate/pop\n",
    "    agents = [agent+distributed_money for agent in agents]\n",
    "    \n",
    "    return agents\n",
    "\n",
    "def trade_with_taxation(m_i,m_j,agents,tax_rate):\n",
    "    m_i_prime = -1\n",
    "    m_j_prime = -1\n",
    "    pop = len(agents)\n",
    "    while m_i_prime < 0 or m_j_prime < 0:\n",
    "        epsilon = r.uniform(0,1)\n",
    "        delta_m = epsilon*m_j - (1-epsilon)*m_i\n",
    "        delta_m, projected_tax = (1-tax_rate)*delta_m, tax_rate*delta_m\n",
    "        m_i_prime = m_i + delta_m\n",
    "        m_j_prime = m_j - delta_m\n",
    "        \n",
    "    distributed_money = projected_tax/pop\n",
    "    agents = [agent+projected_tax for agent in agents]    \n",
    "\n",
    "    return m_i_prime, m_j_prime, agents\n",
    "\n",
    "\n",
    "\n",
    "def consensual_transaction(mi,mj,alpha):\n",
    "    try:\n",
    "        roll = r.uniform(0,1)\n",
    "        p = ((abs(mi-mj))**(-alpha))\n",
    "        if roll <= p:\n",
    "            return True\n",
    "        else:\n",
    "            return False\n",
    "    except ZeroDivisionError:\n",
    "        return False\n",
    "    \n",
    "def consensual_transaction_past_transactions(mi,mj,alpha,c,gamma):\n",
    "    try:\n",
    "        roll = r.uniform(0,1)\n",
    "        p = ((abs(mi-mj))**(-alpha))*(c+1)**(gamma)\n",
    "        if roll <= p:\n",
    "            return True\n",
    "        else:\n",
    "            return False\n",
    "    except ZeroDivisionError:\n",
    "        return False\n",
    "    \n",
    "\n",
    "        \n",
    "def iterate_with_savings(runs, agents, l):\n",
    "    n = len(agents)\n",
    "    for t in range(transactions):\n",
    "        i1, i2 = choose_agents(n)\n",
    "        agent1, agent2 = agents[i1], agents[i2]\n",
    "        while agent1 < 0 or agent2 < 0:\n",
    "            i1, i2 = choose_agents(n)\n",
    "            agent1, agent2 = agents[i1], agents[i2]\n",
    "        agents[i1], agents[i2] = trade_with_savings(agent1,agent2,l)\n",
    "        \n",
    "def iterate_nearest_neighbor(runs, agents, a):\n",
    "    n = len(agents)\n",
    "    for t in range(transactions):\n",
    "        i1, i2 = choose_agents(n)\n",
    "        agent1, agent2 = agents[i1], agents[i2]\n",
    "        while agent1 < 0 or agent2 < 0 or consensual_transaction(agent1,agent2,a) == False:\n",
    "            i1, i2 = choose_agents(n)\n",
    "            agent1, agent2 = agents[i1], agents[i2]\n",
    "        agents[i1], agents[i2] = trade(agent1,agent2)\n",
    "        \n",
    "def flat_income_tax(tax_rate, agents):\n",
    "    bank = 0\n",
    "    for agent in agents:\n",
    "        income_tax = tax_rate*agent\n",
    "        \n",
    "    \n",
    "        \n",
    "        \n",
    "def iterate_nearest_neighbor_with_taxation(runs, agents, a, tax_rate):\n",
    "    n = len(agents)\n",
    "    for t in range(transactions):\n",
    "        i1, i2 = choose_agents(n)\n",
    "        agent1, agent2 = agents[i1], agents[i2]\n",
    "        while agent1 < 0 or agent2 < 0 or consensual_transaction(agent1,agent2,a) == False:\n",
    "            i1, i2 = choose_agents(n)\n",
    "            agent1, agent2 = agents[i1], agents[i2]\n",
    "        agents[i1], agents[i2], agents = trade_with_taxation(agent1,agent2,agents, tax_rate)\n",
    "        \n",
    "def iterate_nearest_neighbor_past_transactions(runs, agents, a, gamma, ledger):\n",
    "    n = len(agents)\n",
    "    for t in range(transactions):\n",
    "        i1, i2 = choose_agents(n)\n",
    "        agent1, agent2 = agents[i1], agents[i2]\n",
    "        c = ledger[i1][i2]\n",
    "        while agent1 < 0 or agent2 < 0 or consensual_transaction_past_transactions(agent1,agent2,a,c,gamma) == False:\n",
    "            i1, i2 = choose_agents(n)\n",
    "            agent1, agent2 = agents[i1], agents[i2]\n",
    "        agents[i1], agents[i2] = trade(agent1,agent2)\n",
    "        ledger[i1][i2] += 1\n",
    "        \n",
    "\n",
    "def power_fit(distribution, beta):\n",
    "    w_arr = []\n",
    "    x = np.linspace(0,max(distribution))\n",
    "    for m in x:\n",
    "        wn = beta*math.exp(-m*beta)\n",
    "        w_arr.append(wn)\n",
    "    return x, w_arr\n",
    "\n",
    "\n"
   ]
  },
  {
   "cell_type": "code",
   "execution_count": null,
   "metadata": {
    "collapsed": true
   },
   "outputs": [],
   "source": [
    "###Finding fit of distribution\n",
    "## Attempt 1 from \n",
    "## https://stackoverflow.com/questions/6620471/fitting-empirical-distribution-to-theoretical-ones-with-scipy-python\n",
    "def make_pdf(dist, params, size=10000):\n",
    "    \"\"\"Generate distributions's Propbability Distribution Function \"\"\"\n",
    "\n",
    "    # Separate parts of parameters\n",
    "    arg = params[:-2]\n",
    "    loc = params[-2]\n",
    "    scale = params[-1]\n",
    "\n",
    "    # Get sane start and end points of distribution\n",
    "    start = dist.ppf(0.01, *arg, loc=loc, scale=scale) if arg else dist.ppf(0.01, loc=loc, scale=scale)\n",
    "    end = dist.ppf(0.99, *arg, loc=loc, scale=scale) if arg else dist.ppf(0.99, loc=loc, scale=scale)\n",
    "\n",
    "    # Build PDF and turn into pandas Series\n",
    "    x = np.linspace(start, end, size)\n",
    "    y = dist.pdf(x, loc=loc, scale=scale, *arg)\n",
    "    pdf = pd.Series(y, x)\n",
    "\n",
    "    return pdf\n",
    "import warnings\n",
    "with warnings.catch_warnings():\n",
    "    y, x = np.histogram(wealth_distribution, bins = 50, density=True)\n",
    "    warnings.filterwarnings('ignore')\n",
    "\n",
    "    # fit dist to data\n",
    "    params = st.pareto.fit(wealth_distribution)\n",
    "\n",
    "    # Separate parts of parameters\n",
    "    arg = params[:-2]\n",
    "    loc = params[-2]\n",
    "    scale = params[-1]\n",
    "\n",
    "    # Calculate fitted PDF and error with fit in distribution\n",
    "    pdf = st.pareto.pdf(x, loc=loc, scale=scale, *arg)\n",
    "    #print(len(y), len(pdf))\n",
    "    #sse = np.sum(np.power(y - pdf, 2.0))\n",
    "\n",
    "    # Plot for comparison\n",
    "    plt.figure(figsize=(12,8))\n",
    "    #ax = wealth_distribution.plot(kind='hist', bins=50, normed=True, alpha=0.5, color=plt.rcParams['axes.color_cycle'][1])\n",
    "    ax = plt.hist(wealth_distribution, bins=50, normed=True)\n",
    "    # Save plot limits\n",
    "    dataYLim = max(y)\n",
    "\n",
    "#     # Find best fit distribution\n",
    "#     best_fit_name, best_fir_paramms = best_fit_distribution(data, 200, ax)\n",
    "#     st.pareto = getattr(st, best_fit_name)\n",
    "\n",
    "    # Update plots\n",
    "    ax.set_ylim(dataYLim)\n",
    "    ax.set_title('Wealth Distribution')\n",
    "    ax.set_xlabel('Wealth')\n",
    "    ax.set_ylabel('Frequency')\n",
    "\n",
    "    # Make PDF\n",
    "    pdf = make_pdf(st.pareto, params)\n",
    "\n",
    "    # Display\n",
    "    plt.figure(figsize=(12,8))\n",
    "    ax = pdf.plot(lw=2, label='PDF', legend=True)\n",
    "    data.plot(kind='hist', bins=50, normed=True, alpha=0.5, label='Data', legend=True, ax=ax)\n",
    "\n",
    "    param_names = (st.pareto.shapes + ', loc, scale').split(', ') if st.pareto.shapes else ['loc', 'scale']\n",
    "    param_str = ', '.join(['{}={:0.2f}'.format(k,v) for k,v in zip(param_names, best_fir_paramms)])\n",
    "    dist_str = '{}({})'.format(best_fit_name, param_str)\n",
    "\n",
    "    ax.set_title('Wealth Distribution')\n",
    "    ax.set_xlabel('Wealth')\n",
    "    ax.set_ylabel('Frequency')"
   ]
  }
 ],
 "metadata": {
  "anaconda-cloud": {},
  "kernelspec": {
   "display_name": "Python [conda root]",
   "language": "python",
   "name": "conda-root-py"
  }
 },
 "nbformat": 4,
 "nbformat_minor": 1
}
