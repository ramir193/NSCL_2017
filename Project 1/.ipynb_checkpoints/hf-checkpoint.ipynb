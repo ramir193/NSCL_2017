{
 "cells": [
  {
   "cell_type": "code",
   "execution_count": 18,
   "metadata": {
    "collapsed": false,
    "scrolled": true
   },
   "outputs": [
    {
     "name": "stdout",
     "output_type": "stream",
     "text": [
      "['0', '0', '0', '1', '-1'] <class 'list'> 5\n",
      "['1', '0', '0', '1', '1'] <class 'list'> 5\n",
      "['2', '0', '-1', '1', '-1'] <class 'list'> 5\n",
      "['3', '0', '-1', '1', '1'] <class 'list'> 5\n",
      "['4', '0', '1', '1', '-1'] <class 'list'> 5\n",
      "['5', '0', '1', '1', '1'] <class 'list'> 5\n",
      "['6', '0', '-2', '1', '-1'] <class 'list'> 5\n",
      "['7', '0', '-2', '1', '1'] <class 'list'> 5\n",
      "['8', '1', '0', '1', '-1'] <class 'list'> 5\n",
      "['9', '1', '0', '1', '1'] <class 'list'> 5\n",
      "['10', '0', '2', '1', '-1'] <class 'list'> 5\n",
      "['11', '0', '2', '1', '1'] <class 'list'> 5\n"
     ]
    },
    {
     "ename": "IndexError",
     "evalue": "index 12 is out of bounds for axis 0 with size 12",
     "output_type": "error",
     "traceback": [
      "\u001b[0;31m---------------------------------------------------------------------------\u001b[0m",
      "\u001b[0;31mIndexError\u001b[0m                                Traceback (most recent call last)",
      "\u001b[0;32m<ipython-input-18-bbacc4f9fbb2>\u001b[0m in \u001b[0;36m<module>\u001b[0;34m()\u001b[0m\n\u001b[1;32m     56\u001b[0m             \u001b[0msum_\u001b[0m \u001b[1;33m=\u001b[0m \u001b[1;36m0.0\u001b[0m\u001b[1;33m\u001b[0m\u001b[0m\n\u001b[1;32m     57\u001b[0m             \u001b[1;32mfor\u001b[0m \u001b[0mi\u001b[0m \u001b[1;32min\u001b[0m \u001b[0mrange\u001b[0m\u001b[1;33m(\u001b[0m\u001b[0mNparticles\u001b[0m\u001b[1;33m)\u001b[0m\u001b[1;33m:\u001b[0m\u001b[1;33m\u001b[0m\u001b[0m\n\u001b[0;32m---> 58\u001b[0;31m                 \u001b[0msum_\u001b[0m \u001b[1;33m+=\u001b[0m \u001b[0mC\u001b[0m\u001b[1;33m[\u001b[0m\u001b[0mgamma\u001b[0m\u001b[1;33m]\u001b[0m\u001b[1;33m[\u001b[0m\u001b[0mi\u001b[0m\u001b[1;33m]\u001b[0m\u001b[1;33m*\u001b[0m\u001b[0mC\u001b[0m\u001b[1;33m[\u001b[0m\u001b[0mdelta\u001b[0m\u001b[1;33m]\u001b[0m\u001b[1;33m[\u001b[0m\u001b[0mi\u001b[0m\u001b[1;33m]\u001b[0m\u001b[1;33m\u001b[0m\u001b[0m\n\u001b[0m\u001b[1;32m     59\u001b[0m             \u001b[0mDensityMatrix\u001b[0m\u001b[1;33m[\u001b[0m\u001b[0mgamma\u001b[0m\u001b[1;33m]\u001b[0m\u001b[1;33m[\u001b[0m\u001b[0mdelta\u001b[0m\u001b[1;33m]\u001b[0m \u001b[1;33m=\u001b[0m \u001b[0mDecimal\u001b[0m\u001b[1;33m(\u001b[0m\u001b[0msum_\u001b[0m\u001b[1;33m)\u001b[0m\u001b[1;33m\u001b[0m\u001b[0m\n\u001b[1;32m     60\u001b[0m     \u001b[0mmaxHFiter\u001b[0m \u001b[1;33m=\u001b[0m \u001b[1;36m100\u001b[0m\u001b[1;33m\u001b[0m\u001b[0m\n",
      "\u001b[0;31mIndexError\u001b[0m: index 12 is out of bounds for axis 0 with size 12"
     ]
    }
   ],
   "source": [
    "import numpy as np \n",
    "from decimal import Decimal\n",
    "# expectation value for the one body part, Harmonic oscillator in three dimensions\n",
    "def onebody(i, n, l):\n",
    "    homega = 10.0\n",
    "    return homega*(2*n[i] + l[i] + 1.5)\n",
    "\n",
    "if __name__ == '__main__':\n",
    "\n",
    "    Nparticles = 16\n",
    "    \"\"\" Read quantum numbers from file \"\"\"\n",
    "    index = []\n",
    "    n = []\n",
    "    l = []\n",
    "    j = []\t\n",
    "    mj = []\n",
    "    tz = []\n",
    "    spOrbitals = 0\n",
    "    with open(\"nucleispnumbers.dat\", \"r\") as qnumfile:\n",
    "        for line in qnumfile:\n",
    "            nums = line.strip('\\n').split(\",\")\n",
    "            print(nums,type(nums),len(nums))\n",
    "            if len(nums) != 0:\n",
    "                index.append(int(nums[0]))\n",
    "                n.append(int(nums[1]))\n",
    "                l.append(int(nums[2])) #m\n",
    "                j.append(int(nums[3])) #s\n",
    "                mj.append(int(nums[4])) #ms\n",
    "                #tz.append(int(nums[5]))\n",
    "                spOrbitals += 1\n",
    "\n",
    "\n",
    "        \"\"\" Read two-nucleon interaction elements (integrals) from file, brute force 4-dim array \"\"\"\n",
    "        nninteraction = np.zeros([spOrbitals, spOrbitals, spOrbitals, spOrbitals])\n",
    "    with open(\"nucleitwobody.dat\", \"r\") as infile:\n",
    "        for line in infile:\n",
    "            number = line.strip(\"\\n\").split(\",\")\n",
    "            a = int(number[0])\n",
    "            b = int(number[1])\n",
    "            c = int(number[2])\n",
    "            d = int(number[3])\n",
    "            #print a, b, c, d, float(l[4])\n",
    "            nninteraction[a][b][c][d] = Decimal(number[4])\n",
    "    \"\"\" Set up single-particle integral \"\"\"\n",
    "    singleparticleH = np.zeros(spOrbitals)\n",
    "    for i in range(spOrbitals):\n",
    "        singleparticleH[i] = Decimal(onebody(i, n, l))\n",
    "\n",
    "    \"\"\" Star HF-iterations, preparing variables and density matrix \"\"\"\n",
    "\n",
    "    \"\"\" Coefficients for setting up density matrix, assuming only one along the diagonals \"\"\"\n",
    "    C = np.eye(spOrbitals) # HF coefficients\n",
    "    DensityMatrix = np.zeros([spOrbitals,spOrbitals])\n",
    "    for gamma in range(spOrbitals):\n",
    "        for delta in range(spOrbitals):\n",
    "            sum_ = 0.0\n",
    "            for i in range(Nparticles):\n",
    "                sum_ += C[gamma][i]*C[delta][i]\n",
    "            DensityMatrix[gamma][delta] = Decimal(sum_)\n",
    "    maxHFiter = 100\n",
    "    epsilon =  1.0e-5 \n",
    "    difference = 1.0\n",
    "    hf_count = 0\n",
    "    oldenergies = np.zeros(spOrbitals)\n",
    "    newenergies = np.zeros(spOrbitals)\n",
    "    while hf_count < maxHFiter and difference > epsilon:\n",
    "        print(\"############### Iteration %i ###############\".format(hf_count))\n",
    "        HFmatrix = np.zeros([spOrbitals,spOrbitals])\n",
    "        for alpha in range(spOrbitals):\n",
    "            for beta in range(spOrbitals):\n",
    "                \"\"\"  If tests for three-dimensional systems, including isospin conservation \"\"\"\n",
    "                if l[alpha] != l[beta] and j[alpha] != j[beta] and mj[alpha] != mj[beta] and tz[alpha] != tz[beta]: continue\n",
    "                \"\"\"  Setting up the Fock matrix using the density matrix and antisymmetrized NN interaction in m-scheme \"\"\"\n",
    "                sumFockTerm = 0.0\n",
    "                for gamma in range(spOrbitals):\n",
    "                    for delta in range(spOrbitals):\n",
    "                        #if (mj[alpha]+mj[gamma]) != (mj[beta]+mj[delta]) and (tz[alpha]+tz[gamma]) != (tz[beta]+tz[delta]): continue\n",
    "                        sumFockTerm += DensityMatrix[gamma][delta]*nninteraction[alpha][gamma][beta][delta]\n",
    "                HFmatrix[alpha][beta] = Decimal(sumFockTerm)\n",
    "                \"\"\"  Adding the one-body term, here plain harmonic oscillator \"\"\"\n",
    "                if beta == alpha:   \n",
    "                    HFmatrix[alpha][alpha] += singleparticleH[alpha]\n",
    "                    spenergies, C = np.linalg.eigh(HFmatrix)\n",
    "                \"\"\" Setting up new density matrix in m-scheme \"\"\"\n",
    "                DensityMatrix = np.zeros([spOrbitals,spOrbitals])\n",
    "                for gamma in range(spOrbitals):\n",
    "                    for delta in range(spOrbitals):\n",
    "                        sum_ = 0.0\n",
    "                        for i in range(Nparticles):\n",
    "                            sum_ += C[gamma][i]*C[delta][i]\n",
    "                        DensityMatrix[gamma][delta] = Decimal(sum_)\n",
    "                newenergies = spenergies\n",
    "                \"\"\" Brute force computation of difference between previous and new sp HF energies \"\"\"\n",
    "                sum_ =0.0\n",
    "                for i in range(spOrbitals):\n",
    "                    sum_ += (abs(newenergies[i]-oldenergies[i]))/spOrbitals\n",
    "                difference = sum_\n",
    "                oldenergies = newenergies\n",
    "                print(\"Single-particle energies, ordering may have changed\")\n",
    "                for i in range(spOrbitals):\n",
    "                    print('{0:4d}  {1:.4f}'.format(i, Decimal(oldenergies[i])))\n",
    "        hf_count += 1\n"
   ]
  },
  {
   "cell_type": "code",
   "execution_count": 6,
   "metadata": {
    "collapsed": false
   },
   "outputs": [
    {
     "ename": "ValueError",
     "evalue": "invalid literal for int() with base 10: '-1.0'",
     "output_type": "error",
     "traceback": [
      "\u001b[0;31m---------------------------------------------------------------------------\u001b[0m",
      "\u001b[0;31mValueError\u001b[0m                                Traceback (most recent call last)",
      "\u001b[0;32m<ipython-input-6-6ae19aec58c1>\u001b[0m in \u001b[0;36m<module>\u001b[0;34m()\u001b[0m\n\u001b[0;32m----> 1\u001b[0;31m \u001b[0mint\u001b[0m\u001b[1;33m(\u001b[0m\u001b[1;34m'-1.0'\u001b[0m\u001b[1;33m)\u001b[0m\u001b[1;33m\u001b[0m\u001b[0m\n\u001b[0m",
      "\u001b[0;31mValueError\u001b[0m: invalid literal for int() with base 10: '-1.0'"
     ]
    }
   ],
   "source": [
    "int('-1.0')"
   ]
  },
  {
   "cell_type": "code",
   "execution_count": null,
   "metadata": {
    "collapsed": true
   },
   "outputs": [],
   "source": []
  }
 ],
 "metadata": {
  "anaconda-cloud": {},
  "kernelspec": {
   "display_name": "Python [conda root]",
   "language": "python",
   "name": "conda-root-py"
  },
  "language_info": {
   "codemirror_mode": {
    "name": "ipython",
    "version": 3
   },
   "file_extension": ".py",
   "mimetype": "text/x-python",
   "name": "python",
   "nbconvert_exporter": "python",
   "pygments_lexer": "ipython3",
   "version": "3.5.2"
  }
 },
 "nbformat": 4,
 "nbformat_minor": 1
}
